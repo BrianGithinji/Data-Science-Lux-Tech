{
 "cells": [
  {
   "cell_type": "markdown",
   "id": "1fd1206e",
   "metadata": {},
   "source": [
    "Between linear regression and random forest model, it would be easier to use linear regression because:\n",
    "\n",
    "i)Linear regression is a simple and interpretable model that assumes a linear relationship between the features and the target variable (booking prices). It works well when the relationship between features and prices is approximately linear.\n",
    "\n",
    "ii) If the features have a linear relationship with booking prices and there are no significant non-linearities or interactions, linear regression can perform well and provide straightforward interpretability.\n",
    "\n",
    "iii) However, if the relationship is highly non-linear or there are complex interactions between features, linear regression may not capture the nuances of the data effectively."
   ]
  },
  {
   "cell_type": "code",
   "execution_count": 3,
   "id": "f8f135c7",
   "metadata": {},
   "outputs": [
    {
     "ename": "SyntaxError",
     "evalue": "unterminated string literal (detected at line 1) (2624240685.py, line 1)",
     "output_type": "error",
     "traceback": [
      "\u001b[1;36m  Cell \u001b[1;32mIn[3], line 1\u001b[1;36m\u001b[0m\n\u001b[1;33m    airbnb_data.csv=\"Listing ID,Property Type,Neighborhood,Accommodates,Bedrooms,Bathrooms,Review Scores Rating,Review Scores Cleanliness,Price (USD)\u001b[0m\n\u001b[1;37m                    ^\u001b[0m\n\u001b[1;31mSyntaxError\u001b[0m\u001b[1;31m:\u001b[0m unterminated string literal (detected at line 1)\n"
     ]
    }
   ],
   "source": [
    "airbnb_data.csv=\"Listing ID,Property Type,Neighborhood,Accommodates,Bedrooms,Bathrooms,Review Scores Rating,Review Scores Cleanliness,Price (USD)\n",
    "1,Apartment,Downtown,2,1,1,4.8,4.7,100\n",
    "2,House,Suburb,6,3,2,4.7,4.6,150\n",
    "3,Condo,Beachfront,4,2,1.5,4.9,4.9,120\n",
    "4,Cabin,Mountains,2,1,1,4.5,4.3,80\n",
    "5,Villa,Countryside,8,4,3,4.8,4.8,250\""
   ]
  },
  {
   "cell_type": "code",
   "execution_count": 12,
   "id": "3faf3201",
   "metadata": {},
   "outputs": [
    {
     "ename": "TypeError",
     "evalue": "initial_value must be str or None, not dict",
     "output_type": "error",
     "traceback": [
      "\u001b[1;31m---------------------------------------------------------------------------\u001b[0m",
      "\u001b[1;31mTypeError\u001b[0m                                 Traceback (most recent call last)",
      "Cell \u001b[1;32mIn[12], line 25\u001b[0m\n\u001b[0;32m     23\u001b[0m \u001b[38;5;66;03m# Create a DataFrame from the CSV data\u001b[39;00m\n\u001b[0;32m     24\u001b[0m \u001b[38;5;28;01mfrom\u001b[39;00m \u001b[38;5;21;01mio\u001b[39;00m \u001b[38;5;28;01mimport\u001b[39;00m StringIO\n\u001b[1;32m---> 25\u001b[0m df \u001b[38;5;241m=\u001b[39m pd\u001b[38;5;241m.\u001b[39mread_csv(StringIO(data))\n\u001b[0;32m     28\u001b[0m \u001b[38;5;66;03m# Features (X) and target variable (y)\u001b[39;00m\n\u001b[0;32m     29\u001b[0m X \u001b[38;5;241m=\u001b[39m df\u001b[38;5;241m.\u001b[39mdrop(\u001b[38;5;124m'\u001b[39m\u001b[38;5;124mPrice (USD)\u001b[39m\u001b[38;5;124m'\u001b[39m, axis\u001b[38;5;241m=\u001b[39m\u001b[38;5;241m1\u001b[39m)  \u001b[38;5;66;03m# Features\u001b[39;00m\n",
      "\u001b[1;31mTypeError\u001b[0m: initial_value must be str or None, not dict"
     ]
    }
   ],
   "source": [
    "import pandas as pd\n",
    "from sklearn.model_selection import train_test_split\n",
    "from sklearn.linear_model import LinearRegression\n",
    "from sklearn.preprocessing import OneHotEncoder\n",
    "from sklearn.compose import ColumnTransformer\n",
    "from sklearn.pipeline import Pipeline\n",
    "from sklearn.metrics import mean_squared_error, r2_score\n",
    "\n",
    "\n",
    "# Sample data in a dictionary format\n",
    "data = {\n",
    "    'Listing ID': [1, 2, 3, 4, 5],\n",
    "    'Property Type': ['Apartment', 'House', 'Condo', 'Cabin', 'Villa'],\n",
    "    'Neighborhood': ['Downtown', 'Suburb', 'Beachfront', 'Mountains', 'Countryside'],\n",
    "    'Accommodates': [2, 6, 4, 2, 8],\n",
    "    'Bedrooms': [1, 3, 2, 1, 4],\n",
    "    'Bathrooms': [1, 2, 1.5, 1, 3],\n",
    "    'Review Scores Rating': [4.8, 4.7, 4.9, 4.5, 4.8],\n",
    "    'Review Scores Cleanliness': [4.7, 4.6, 4.9, 4.3, 4.8],\n",
    "    'Price (USD)': [100, 150, 120, 80, 250]\n",
    "}\n",
    "\n",
    "# Create a DataFrame from the CSV data\n",
    "from io import StringIO\n",
    "df = pd.read_csv(StringIO(data))\n",
    "\n",
    "\n",
    "# Features (X) and target variable (y)\n",
    "X = df.drop('Price (USD)', axis=1)  # Features\n",
    "y = df['Price (USD)']  # Target variable\n",
    "\n",
    "# Split the dataset into training and testing sets\n",
    "X_train, X_test, y_train, y_test = train_test_split(X, y, test_size=0.2, random_state=42)\n",
    "\n",
    "# Define the columns to be one-hot encoded\n",
    "categorical_cols = ['Property Type', 'Neighborhood']\n",
    "\n",
    "# Create a preprocessor that one-hot encodes the categorical columns\n",
    "preprocessor = ColumnTransformer(\n",
    "    transformers=[\n",
    "        ('cat', OneHotEncoder(), categorical_cols)\n",
    "    ])\n",
    "\n",
    "# Create and train the linear regression model\n",
    "model = LinearRegression()\n",
    "pipeline = Pipeline([\n",
    "    ('preprocessor', preprocessor),\n",
    "    ('model', model)\n",
    "])\n",
    "\n",
    "pipeline.fit(X_train, y_train)\n",
    "\n",
    "# Make predictions on the test set\n",
    "y_pred = pipeline.predict(X_test)\n",
    "\n",
    "# Evaluate the model\n",
    "mse = mean_squared_error(y_test, y_pred)\n",
    "r2 = r2_score(y_test, y_pred)\n",
    "\n",
    "print('Mean Squared Error:', mse)\n",
    "print('R-squared:', r2)"
   ]
  },
  {
   "cell_type": "code",
   "execution_count": null,
   "id": "770b6356",
   "metadata": {},
   "outputs": [],
   "source": []
  }
 ],
 "metadata": {
  "kernelspec": {
   "display_name": "Python 3 (ipykernel)",
   "language": "python",
   "name": "python3"
  },
  "language_info": {
   "codemirror_mode": {
    "name": "ipython",
    "version": 3
   },
   "file_extension": ".py",
   "mimetype": "text/x-python",
   "name": "python",
   "nbconvert_exporter": "python",
   "pygments_lexer": "ipython3",
   "version": "3.11.3"
  }
 },
 "nbformat": 4,
 "nbformat_minor": 5
}
